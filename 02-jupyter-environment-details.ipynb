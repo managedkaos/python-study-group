{
 "cells": [
  {
   "cell_type": "code",
   "execution_count": null,
   "metadata": {
    "execution": {
     "iopub.execute_input": "2024-03-13T22:51:39.257912Z",
     "iopub.status.busy": "2024-03-13T22:51:39.257771Z",
     "iopub.status.idle": "2024-03-13T22:51:40.494091Z",
     "shell.execute_reply": "2024-03-13T22:51:40.493687Z"
    },
    "id": "2AuGt6WCWTLW"
   },
   "outputs": [],
   "source": [
    "%pip install --quiet psutil py-cpuinfo pandas"
   ]
  },
  {
   "cell_type": "code",
   "execution_count": null,
   "metadata": {
    "execution": {
     "iopub.execute_input": "2024-03-13T22:51:40.513652Z",
     "iopub.status.busy": "2024-03-13T22:51:40.513460Z",
     "iopub.status.idle": "2024-03-13T22:51:40.969898Z",
     "shell.execute_reply": "2024-03-13T22:51:40.969585Z"
    },
    "id": "wNiXkifpWWR-"
   },
   "outputs": [],
   "source": [
    "import psutil\n",
    "import platform\n",
    "from datetime import datetime\n",
    "import cpuinfo\n",
    "import socket\n",
    "import uuid\n",
    "import re\n",
    "import pandas as pd  # Import pandas\n",
    "\n",
    "\n",
    "def get_size(bytes, suffix=\"B\"):\n",
    "    \"\"\"\n",
    "    Scale bytes to its proper format\n",
    "    e.g:\n",
    "        1253656 => '1.20MB'\n",
    "        1253656678 => '1.17GB'\n",
    "    \"\"\"\n",
    "    factor = 1024\n",
    "    for unit in [\"\", \"K\", \"M\", \"G\", \"T\", \"P\"]:\n",
    "        if bytes < factor:\n",
    "            return f\"{bytes:.2f}{unit}{suffix}\"\n",
    "        bytes /= factor\n",
    "\n",
    "\n",
    "# Your get_size function remains unchanged\n",
    "\n",
    "\n",
    "def System_information():\n",
    "    info = []  # List to hold information tuples\n",
    "\n",
    "    # System Information\n",
    "    uname = platform.uname()\n",
    "    info.append((\"System\", uname.system))\n",
    "    info.append((\"Node Name\", uname.node))\n",
    "    info.append((\"Release\", uname.release))\n",
    "    info.append((\"Version\", uname.version))\n",
    "    info.append((\"Machine\", uname.machine))\n",
    "    info.append((\"Processor\", uname.processor))\n",
    "    info.append((\"Processor Brand\", cpuinfo.get_cpu_info()[\"brand_raw\"]))\n",
    "\n",
    "    # CPU Information\n",
    "    info.append((\"Physical cores\", psutil.cpu_count(logical=False)))\n",
    "\n",
    "    # Memory Information\n",
    "    svmem = psutil.virtual_memory()\n",
    "    info.append((\"Total Memory\", get_size(svmem.total)))\n",
    "\n",
    "    # Disk Information\n",
    "    partitions = psutil.disk_partitions()\n",
    "    for partition in partitions:\n",
    "        if partition.mountpoint in [\"/\", \"/boot\"]:\n",
    "            try:\n",
    "                partition_usage = psutil.disk_usage(partition.mountpoint)\n",
    "                info.append(\n",
    "                    (\n",
    "                        f\"Disk: {partition.device} Total Size\",\n",
    "                        get_size(partition_usage.total),\n",
    "                    )\n",
    "                )\n",
    "            except PermissionError:\n",
    "                # Skip the partition if permission error\n",
    "                continue\n",
    "\n",
    "    # Convert list of tuples to DataFrame\n",
    "    df = pd.DataFrame(info, columns=[\"Item\", \"Value\"])\n",
    "    return df  # Return DataFrame instead of printing\n",
    "\n",
    "\n",
    "if __name__ == \"__main__\":\n",
    "    print(datetime.now().strftime(\"%y-%m-%d-%H-%M\"))\n",
    "    df = System_information()\n",
    "\n",
    "    # Use the style property to set text alignment to left\n",
    "    styled_df = df.style.set_properties(**{\"text-align\": \"left\"})\n",
    "\n",
    "    # Set the table styles\n",
    "    styled_df.set_table_styles([dict(selector=\"th\", props=[(\"text-align\", \"left\")])])\n",
    "\n",
    "    # Print the sytled df\n",
    "    display(styled_df)"
   ]
  }
 ],
 "metadata": {
  "colab": {
   "authorship_tag": "ABX9TyPtZFtImanTt3no3VZVCx1B",
   "provenance": []
  },
  "kernelspec": {
   "display_name": "Python 3 (ipykernel)",
   "language": "python",
   "name": "python3"
  },
  "language_info": {
   "codemirror_mode": {
    "name": "ipython",
    "version": 3
   },
   "file_extension": ".py",
   "mimetype": "text/x-python",
   "name": "python",
   "nbconvert_exporter": "python",
   "pygments_lexer": "ipython3",
   "version": "3.12.2"
  }
 },
 "nbformat": 4,
 "nbformat_minor": 4
}
