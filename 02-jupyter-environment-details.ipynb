{
 "cells": [
  {
   "cell_type": "code",
   "execution_count": 1,
   "metadata": {
    "id": "2AuGt6WCWTLW"
   },
   "outputs": [
    {
     "name": "stdout",
     "output_type": "stream",
     "text": [
      "Note: you may need to restart the kernel to use updated packages.\n"
     ]
    }
   ],
   "source": [
    "%pip install --quiet psutil py-cpuinfo pandas"
   ]
  },
  {
   "cell_type": "code",
   "execution_count": 2,
   "metadata": {
    "id": "wNiXkifpWWR-"
   },
   "outputs": [
    {
     "name": "stdout",
     "output_type": "stream",
     "text": [
      "24-03-12-21-38\n"
     ]
    },
    {
     "data": {
      "text/html": [
       "<style type=\"text/css\">\n",
       "#T_9d4e4 th {\n",
       "  text-align: left;\n",
       "}\n",
       "#T_9d4e4_row0_col0, #T_9d4e4_row0_col1, #T_9d4e4_row1_col0, #T_9d4e4_row1_col1, #T_9d4e4_row2_col0, #T_9d4e4_row2_col1, #T_9d4e4_row3_col0, #T_9d4e4_row3_col1, #T_9d4e4_row4_col0, #T_9d4e4_row4_col1, #T_9d4e4_row5_col0, #T_9d4e4_row5_col1, #T_9d4e4_row6_col0, #T_9d4e4_row6_col1, #T_9d4e4_row7_col0, #T_9d4e4_row7_col1, #T_9d4e4_row8_col0, #T_9d4e4_row8_col1, #T_9d4e4_row9_col0, #T_9d4e4_row9_col1 {\n",
       "  text-align: left;\n",
       "}\n",
       "</style>\n",
       "<table id=\"T_9d4e4\">\n",
       "  <thead>\n",
       "    <tr>\n",
       "      <th class=\"blank level0\" >&nbsp;</th>\n",
       "      <th id=\"T_9d4e4_level0_col0\" class=\"col_heading level0 col0\" >Item</th>\n",
       "      <th id=\"T_9d4e4_level0_col1\" class=\"col_heading level0 col1\" >Value</th>\n",
       "    </tr>\n",
       "  </thead>\n",
       "  <tbody>\n",
       "    <tr>\n",
       "      <th id=\"T_9d4e4_level0_row0\" class=\"row_heading level0 row0\" >0</th>\n",
       "      <td id=\"T_9d4e4_row0_col0\" class=\"data row0 col0\" >System</td>\n",
       "      <td id=\"T_9d4e4_row0_col1\" class=\"data row0 col1\" >Darwin</td>\n",
       "    </tr>\n",
       "    <tr>\n",
       "      <th id=\"T_9d4e4_level0_row1\" class=\"row_heading level0 row1\" >1</th>\n",
       "      <td id=\"T_9d4e4_row1_col0\" class=\"data row1 col0\" >Node Name</td>\n",
       "      <td id=\"T_9d4e4_row1_col1\" class=\"data row1 col1\" >CQFYX0V9G3</td>\n",
       "    </tr>\n",
       "    <tr>\n",
       "      <th id=\"T_9d4e4_level0_row2\" class=\"row_heading level0 row2\" >2</th>\n",
       "      <td id=\"T_9d4e4_row2_col0\" class=\"data row2 col0\" >Release</td>\n",
       "      <td id=\"T_9d4e4_row2_col1\" class=\"data row2 col1\" >23.2.0</td>\n",
       "    </tr>\n",
       "    <tr>\n",
       "      <th id=\"T_9d4e4_level0_row3\" class=\"row_heading level0 row3\" >3</th>\n",
       "      <td id=\"T_9d4e4_row3_col0\" class=\"data row3 col0\" >Version</td>\n",
       "      <td id=\"T_9d4e4_row3_col1\" class=\"data row3 col1\" >Darwin Kernel Version 23.2.0: Wed Nov 15 21:53:18 PST 2023; root:xnu-10002.61.3~2/RELEASE_ARM64_T6000</td>\n",
       "    </tr>\n",
       "    <tr>\n",
       "      <th id=\"T_9d4e4_level0_row4\" class=\"row_heading level0 row4\" >4</th>\n",
       "      <td id=\"T_9d4e4_row4_col0\" class=\"data row4 col0\" >Machine</td>\n",
       "      <td id=\"T_9d4e4_row4_col1\" class=\"data row4 col1\" >arm64</td>\n",
       "    </tr>\n",
       "    <tr>\n",
       "      <th id=\"T_9d4e4_level0_row5\" class=\"row_heading level0 row5\" >5</th>\n",
       "      <td id=\"T_9d4e4_row5_col0\" class=\"data row5 col0\" >Processor</td>\n",
       "      <td id=\"T_9d4e4_row5_col1\" class=\"data row5 col1\" >arm</td>\n",
       "    </tr>\n",
       "    <tr>\n",
       "      <th id=\"T_9d4e4_level0_row6\" class=\"row_heading level0 row6\" >6</th>\n",
       "      <td id=\"T_9d4e4_row6_col0\" class=\"data row6 col0\" >Processor Brand</td>\n",
       "      <td id=\"T_9d4e4_row6_col1\" class=\"data row6 col1\" >Apple M1 Max</td>\n",
       "    </tr>\n",
       "    <tr>\n",
       "      <th id=\"T_9d4e4_level0_row7\" class=\"row_heading level0 row7\" >7</th>\n",
       "      <td id=\"T_9d4e4_row7_col0\" class=\"data row7 col0\" >Physical cores</td>\n",
       "      <td id=\"T_9d4e4_row7_col1\" class=\"data row7 col1\" >10</td>\n",
       "    </tr>\n",
       "    <tr>\n",
       "      <th id=\"T_9d4e4_level0_row8\" class=\"row_heading level0 row8\" >8</th>\n",
       "      <td id=\"T_9d4e4_row8_col0\" class=\"data row8 col0\" >Total Memory</td>\n",
       "      <td id=\"T_9d4e4_row8_col1\" class=\"data row8 col1\" >64.00GB</td>\n",
       "    </tr>\n",
       "    <tr>\n",
       "      <th id=\"T_9d4e4_level0_row9\" class=\"row_heading level0 row9\" >9</th>\n",
       "      <td id=\"T_9d4e4_row9_col0\" class=\"data row9 col0\" >Disk: /dev/disk3s1s1 Total Size</td>\n",
       "      <td id=\"T_9d4e4_row9_col1\" class=\"data row9 col1\" >926.35GB</td>\n",
       "    </tr>\n",
       "  </tbody>\n",
       "</table>\n"
      ],
      "text/plain": [
       "<pandas.io.formats.style.Styler at 0x112af1820>"
      ]
     },
     "metadata": {},
     "output_type": "display_data"
    }
   ],
   "source": [
    "import psutil\n",
    "import platform\n",
    "from datetime import datetime\n",
    "import cpuinfo\n",
    "import socket\n",
    "import uuid\n",
    "import re\n",
    "import pandas as pd  # Import pandas\n",
    "\n",
    "\n",
    "def get_size(bytes, suffix=\"B\"):\n",
    "    \"\"\"\n",
    "    Scale bytes to its proper format\n",
    "    e.g:\n",
    "        1253656 => '1.20MB'\n",
    "        1253656678 => '1.17GB'\n",
    "    \"\"\"\n",
    "    factor = 1024\n",
    "    for unit in [\"\", \"K\", \"M\", \"G\", \"T\", \"P\"]:\n",
    "        if bytes < factor:\n",
    "            return f\"{bytes:.2f}{unit}{suffix}\"\n",
    "        bytes /= factor\n",
    "\n",
    "\n",
    "# Your get_size function remains unchanged\n",
    "\n",
    "\n",
    "def System_information():\n",
    "    info = []  # List to hold information tuples\n",
    "\n",
    "    # System Information\n",
    "    uname = platform.uname()\n",
    "    info.append((\"System\", uname.system))\n",
    "    info.append((\"Node Name\", uname.node))\n",
    "    info.append((\"Release\", uname.release))\n",
    "    info.append((\"Version\", uname.version))\n",
    "    info.append((\"Machine\", uname.machine))\n",
    "    info.append((\"Processor\", uname.processor))\n",
    "    info.append((\"Processor Brand\", cpuinfo.get_cpu_info()[\"brand_raw\"]))\n",
    "\n",
    "    # CPU Information\n",
    "    info.append((\"Physical cores\", psutil.cpu_count(logical=False)))\n",
    "\n",
    "    # Memory Information\n",
    "    svmem = psutil.virtual_memory()\n",
    "    info.append((\"Total Memory\", get_size(svmem.total)))\n",
    "\n",
    "    # Disk Information\n",
    "    partitions = psutil.disk_partitions()\n",
    "    for partition in partitions:\n",
    "        if partition.mountpoint in [\"/\", \"/boot\"]:\n",
    "            try:\n",
    "                partition_usage = psutil.disk_usage(partition.mountpoint)\n",
    "                info.append(\n",
    "                    (\n",
    "                        f\"Disk: {partition.device} Total Size\",\n",
    "                        get_size(partition_usage.total),\n",
    "                    )\n",
    "                )\n",
    "            except PermissionError:\n",
    "                # Skip the partition if permission error\n",
    "                continue\n",
    "\n",
    "    # Convert list of tuples to DataFrame\n",
    "    df = pd.DataFrame(info, columns=[\"Item\", \"Value\"])\n",
    "    return df  # Return DataFrame instead of printing\n",
    "\n",
    "\n",
    "if __name__ == \"__main__\":\n",
    "    print(datetime.now().strftime(\"%y-%m-%d-%H-%M\"))\n",
    "    df = System_information()\n",
    "\n",
    "    # Use the style property to set text alignment to left\n",
    "    styled_df = df.style.set_properties(**{\"text-align\": \"left\"})\n",
    "\n",
    "    # Set the table styles\n",
    "    styled_df.set_table_styles([dict(selector=\"th\", props=[(\"text-align\", \"left\")])])\n",
    "\n",
    "    # Print the sytled df\n",
    "    display(styled_df)"
   ]
  }
 ],
 "metadata": {
  "colab": {
   "authorship_tag": "ABX9TyPtZFtImanTt3no3VZVCx1B",
   "provenance": []
  },
  "kernelspec": {
   "display_name": "Python 3 (ipykernel)",
   "language": "python",
   "name": "python3"
  },
  "language_info": {
   "codemirror_mode": {
    "name": "ipython",
    "version": 3
   },
   "file_extension": ".py",
   "mimetype": "text/x-python",
   "name": "python",
   "nbconvert_exporter": "python",
   "pygments_lexer": "ipython3",
   "version": "3.12.2"
  }
 },
 "nbformat": 4,
 "nbformat_minor": 4
}
