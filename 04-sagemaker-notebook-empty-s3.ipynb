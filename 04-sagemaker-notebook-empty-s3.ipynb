{
 "cells": [
  {
   "cell_type": "markdown",
   "id": "b3793949-4743-4223-92b7-b56e406871ed",
   "metadata": {},
   "source": [
    "# SageMaker Demo Cleanup\n",
    "- Empties the S3 bucket so it can be deleted by CloudFormation"
   ]
  },
  {
   "cell_type": "code",
   "execution_count": null,
   "id": "21437830-ddf8-4473-a8a1-c1ad57df2af7",
   "metadata": {
    "tags": []
   },
   "outputs": [],
   "source": [
    "import json\n",
    "\n",
    "# Path to the JSON file\n",
    "file_path = \"/opt/ml/metadata/resource-metadata.json\"\n",
    "\n",
    "# Try to open the file and load its content\n",
    "try:\n",
    "    with open(file_path, \"r\") as file:\n",
    "        metadata = json.load(file)\n",
    "\n",
    "# Stop running if the file is not found\n",
    "except FileNotFoundError:\n",
    "    raise FileNotFoundError(f\"The file at {file_path} was not found.\")\n",
    "\n",
    "# Stop running if the file is not JSON\n",
    "except json.JSONDecodeError:\n",
    "    raise ValueError(\"Failed to decode JSON from the file.\")\n",
    "\n",
    "# Stop running if any other errors are encountered\n",
    "except Exception as e:\n",
    "    raise RuntimeError(f\"An unexpected error occurred: {str(e)}\")\n",
    "\n",
    "# Access the ResourceName value\n",
    "notebook_instance_name = metadata[\"ResourceName\"]\n",
    "\n",
    "print(\"Notebook instance name:\", notebook_instance_name)"
   ]
  },
  {
   "cell_type": "code",
   "execution_count": null,
   "id": "6e451d35-d887-491a-b6ed-9a535e0c47ba",
   "metadata": {},
   "outputs": [],
   "source": [
    "import boto3\n",
    "\n",
    "ssm_client = boto3.client(\"ssm\")"
   ]
  },
  {
   "cell_type": "code",
   "execution_count": null,
   "id": "8551f6f2-b4db-4ceb-b7ac-4f3580a75dbe",
   "metadata": {
    "tags": []
   },
   "outputs": [],
   "source": [
    "# Read value from Parameter Store\n",
    "def read_from_parameter_store(name):\n",
    "    response = ssm_client.get_parameter(Name=name, WithDecryption=True)\n",
    "    return response[\"Parameter\"][\"Value\"]\n",
    "\n",
    "\n",
    "# Get the S3 bucket name and region from Parameter Store\n",
    "bucket_name = read_from_parameter_store(f\"/{notebook_instance_name}/s3bucket\")\n",
    "region = read_from_parameter_store(f\"/{notebook_instance_name}/region\")\n",
    "\n",
    "print(f\"\\tS3 Bucket Name from ParameterStore: {bucket_name}\")\n",
    "print(f\"\\tRegion Name from ParameterStore: {region}\")"
   ]
  },
  {
   "cell_type": "code",
   "execution_count": null,
   "id": "1fec1146-6f1d-4cc7-8a8b-9c76ecd7d34d",
   "metadata": {},
   "outputs": [],
   "source": [
    "!aws sts get-caller-identity"
   ]
  },
  {
   "cell_type": "code",
   "execution_count": null,
   "id": "09de26d6-035a-4e66-91ad-69c251e28b63",
   "metadata": {
    "tags": []
   },
   "outputs": [],
   "source": [
    "!aws s3 rm s3://{bucket_name} --recursive"
   ]
  },
  {
   "cell_type": "code",
   "execution_count": null,
   "id": "13d8dd5f-5883-429b-8ce9-d3746bd78f8b",
   "metadata": {
    "tags": []
   },
   "outputs": [],
   "source": [
    "from IPython.display import display, Markdown\n",
    "\n",
    "markdown_text = f\"\"\"\n",
    "## S3 Bucket has been emptied\n",
    "Proceed with decommissioning the lab by deleteing the CloudFormation stack\n",
    "\n",
    "## [CloudFormation Stacks](https://{region}.console.aws.amazon.com/cloudformation/home)\n",
    "\"\"\"\n",
    "\n",
    "display(Markdown(markdown_text))"
   ]
  }
 ],
 "metadata": {
  "kernelspec": {
   "display_name": "Python 3 (ipykernel)",
   "language": "python",
   "name": "python3"
  },
  "language_info": {
   "codemirror_mode": {
    "name": "ipython",
    "version": 3
   },
   "file_extension": ".py",
   "mimetype": "text/x-python",
   "name": "python",
   "nbconvert_exporter": "python",
   "pygments_lexer": "ipython3",
   "version": "3.12.2"
  }
 },
 "nbformat": 4,
 "nbformat_minor": 5
}
