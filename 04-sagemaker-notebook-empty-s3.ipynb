{
 "cells": [
  {
   "cell_type": "markdown",
   "id": "b3793949-4743-4223-92b7-b56e406871ed",
   "metadata": {},
   "source": [
    "# SageMaker Demo Cleanup\n",
    "- Empties the S3 bucket so it can be deleted by CloudFormation"
   ]
  },
  {
   "cell_type": "markdown",
   "id": "ab739e56-0ed8-45e2-a514-bf8670624bda",
   "metadata": {},
   "source": [
    "## UPDATE THE FOLLOWING VALUES FOR THE NOTEBOOK TO WORK CORRECTLY"
   ]
  },
  {
   "cell_type": "code",
   "execution_count": 1,
   "id": "34616c70-be39-45c3-973e-984352bbdbd6",
   "metadata": {
    "tags": []
   },
   "outputs": [],
   "source": [
    "# Replace with your value for NotebookInstanceName\n",
    "NotebookInstanceName = \"sagemaker-demo-202403130936\"\n",
    "\n",
    "region = \"us-west-2\""
   ]
  },
  {
   "cell_type": "code",
   "execution_count": 2,
   "id": "6e451d35-d887-491a-b6ed-9a535e0c47ba",
   "metadata": {},
   "outputs": [],
   "source": [
    "import boto3\n",
    "\n",
    "ssm_client = boto3.client(\"ssm\")"
   ]
  },
  {
   "cell_type": "code",
   "execution_count": 3,
   "id": "8551f6f2-b4db-4ceb-b7ac-4f3580a75dbe",
   "metadata": {},
   "outputs": [
    {
     "name": "stdout",
     "output_type": "stream",
     "text": [
      "\tS3 Bucket Name from ParameterStore: sagemaker-demo-202403130936\n"
     ]
    }
   ],
   "source": [
    "# Read value from Parameter Store\n",
    "def read_from_parameter_store(name):\n",
    "    response = ssm_client.get_parameter(Name=name, WithDecryption=True)\n",
    "    return response[\"Parameter\"][\"Value\"]\n",
    "\n",
    "\n",
    "# Get the S3 bucket name from Parameter Store\n",
    "bucket_name = read_from_parameter_store(f\"/{NotebookInstanceName}/S3Bucket\")\n",
    "print(f\"\\tS3 Bucket Name from ParameterStore: {bucket_name}\")"
   ]
  },
  {
   "cell_type": "code",
   "execution_count": 4,
   "id": "09de26d6-035a-4e66-91ad-69c251e28b63",
   "metadata": {
    "tags": []
   },
   "outputs": [
    {
     "name": "stdout",
     "output_type": "stream",
     "text": [
      "delete: s3://sagemaker-demo-202403130936/data/data-1.html\n",
      "delete: s3://sagemaker-demo-202403130936/data/data-2.html\n",
      "delete: s3://sagemaker-demo-202403130936/data/data-3.html\n",
      "delete: s3://sagemaker-demo-202403130936/index.html\n",
      "delete: s3://sagemaker-demo-202403130936/data/graph-cluster-2d-visualization.html\n",
      "delete: s3://sagemaker-demo-202403130936/data/data-6.html\n",
      "delete: s3://sagemaker-demo-202403130936/data/data-5.html\n",
      "delete: s3://sagemaker-demo-202403130936/data/graph-cluster-3d-visualization.html\n",
      "delete: s3://sagemaker-demo-202403130936/data/data-4.html\n",
      "delete: s3://sagemaker-demo-202403130936/data/pi-data.pkl\n",
      "delete: s3://sagemaker-demo-202403130936/data/data-7.html\n"
     ]
    }
   ],
   "source": [
    "!aws s3 rm s3://{bucket_name} --recursive"
   ]
  },
  {
   "cell_type": "code",
   "execution_count": 5,
   "id": "13d8dd5f-5883-429b-8ce9-d3746bd78f8b",
   "metadata": {
    "tags": []
   },
   "outputs": [
    {
     "data": {
      "text/markdown": [
       "\n",
       "## S3 Bucket has been emptied\n",
       "Proceed with decommissioning the lab by deleteing the CloudFormation stack\n",
       "\n",
       "## [CloudFormation Stacks](https://us-west-2.console.aws.amazon.com/cloudformation/home)\n"
      ],
      "text/plain": [
       "<IPython.core.display.Markdown object>"
      ]
     },
     "metadata": {},
     "output_type": "display_data"
    }
   ],
   "source": [
    "from IPython.display import display, Markdown\n",
    "\n",
    "markdown_text = f\"\"\"\n",
    "## S3 Bucket has been emptied\n",
    "Proceed with decommissioning the lab by deleteing the CloudFormation stack\n",
    "\n",
    "## [CloudFormation Stacks](https://{region}.console.aws.amazon.com/cloudformation/home)\n",
    "\"\"\"\n",
    "\n",
    "display(Markdown(markdown_text))"
   ]
  }
 ],
 "metadata": {
  "kernelspec": {
   "display_name": "conda_python3",
   "language": "python",
   "name": "conda_python3"
  },
  "language_info": {
   "codemirror_mode": {
    "name": "ipython",
    "version": 3
   },
   "file_extension": ".py",
   "mimetype": "text/x-python",
   "name": "python",
   "nbconvert_exporter": "python",
   "pygments_lexer": "ipython3",
   "version": "3.10.13"
  }
 },
 "nbformat": 4,
 "nbformat_minor": 5
}
