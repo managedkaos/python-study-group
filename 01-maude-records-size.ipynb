{
 "cells": [
  {
   "cell_type": "markdown",
   "id": "fd196565-1b53-41c0-9e0c-436c1adc20f4",
   "metadata": {},
   "source": [
    "# Analyze Manufacturer and User Facility Device Experience (MAUDE) Data Set\n",
    "- Reports the total number of records\n",
    "- The total size of the data set in compressed (zip) format\n",
    "- The total size of the data set uncompressed"
   ]
  },
  {
   "cell_type": "code",
   "execution_count": null,
   "id": "0b001b8a-ceec-479b-aa66-0185b9a1c36d",
   "metadata": {},
   "outputs": [],
   "source": [
    "%pip install --quiet pandas lxml"
   ]
  },
  {
   "cell_type": "code",
   "execution_count": null,
   "id": "a111993d-2e98-4913-ad6a-0ab073ec8a16",
   "metadata": {},
   "outputs": [],
   "source": [
    "import pandas as pd\n",
    "\n",
    "# Read the entire webpaage from fda.gov\n",
    "tables = pd.read_html(\n",
    "    \"https://www.fda.gov/medical-devices/mandatory-reporting-requirements-manufacturers-importers-and-device-user-facilities/about-manufacturer-and-user-facility-device-experience-maude\"\n",
    ")\n",
    "\n",
    "# The read should return one table; use that as the dataframe\n",
    "df = tables[0]\n",
    "\n",
    "# Drop the first row which is only used for formatting on the web page\n",
    "df.drop(index=df.index[0], axis=0, inplace=True)\n",
    "\n",
    "# Rename the columns of the table to include 'Description' and remove tabs\n",
    "df.columns = [\n",
    "    \"File Name\",\n",
    "    \"Compressed Size in Bytes\",\n",
    "    \"Uncompressed Size in Bytes\",\n",
    "    \"Total Records\",\n",
    "    \"Description\",\n",
    "]\n",
    "\n",
    "# Convert total records to integer\n",
    "df = df.astype({\"Total Records\": \"int\"})\n",
    "\n",
    "# Move the 'Description' and 'Total Records' columns to be next to the file name\n",
    "df = df.reindex(\n",
    "    columns=[\n",
    "        \"File Name\",\n",
    "        \"Description\",\n",
    "        \"Total Records\",\n",
    "        \"Compressed Size in Bytes\",\n",
    "        \"Uncompressed Size in Bytes\",\n",
    "    ]\n",
    ")\n",
    "\n",
    "df"
   ]
  },
  {
   "cell_type": "code",
   "execution_count": null,
   "id": "7b42c262-0b40-4f54-9460-ae3bbec5aee5",
   "metadata": {},
   "outputs": [],
   "source": [
    "# Convert 'Compressed Size in Bytes' and 'Uncompressed Size in Bytes' to bytes\n",
    "df[\"Compressed Size in Bytes-Int\"] = (\n",
    "    df[\"Compressed Size in Bytes\"].str.replace(\"KB\", \"\").astype(int) * 1024\n",
    ")\n",
    "df[\"Uncompressed Size in Bytes-Int\"] = (\n",
    "    df[\"Uncompressed Size in Bytes\"].str.replace(\"KB\", \"\").astype(int) * 1024\n",
    ")\n",
    "\n",
    "# Sum the columns\n",
    "total_records_sum = df[\"Total Records\"].sum()\n",
    "compressed_size_sum = df[\"Compressed Size in Bytes-Int\"].sum()\n",
    "uncompressed_size_sum = df[\"Uncompressed Size in Bytes-Int\"].sum()\n",
    "\n",
    "# Conversions\n",
    "bytes_in_gb = 1024**3\n",
    "bytes_in_tb = 1024**4\n",
    "total_records_millions = total_records_sum / 1_000_000\n",
    "compressed_size_gb = compressed_size_sum / bytes_in_gb\n",
    "uncompressed_size_gb = uncompressed_size_sum / bytes_in_gb"
   ]
  },
  {
   "cell_type": "markdown",
   "id": "82138761-7a41-4a81-9531-f153668b6f49",
   "metadata": {},
   "source": [
    "# Report the number of records and their total size"
   ]
  },
  {
   "cell_type": "code",
   "execution_count": null,
   "id": "9a0f12f4-af96-4f4c-8d5d-7ac38afca9aa",
   "metadata": {},
   "outputs": [],
   "source": [
    "from IPython.display import display, Markdown\n",
    "\n",
    "markdown_text = f\"\"\"\n",
    "## - {total_records_millions:.2f} M Records\n",
    "## - {compressed_size_gb:.2f} GB Compressed\n",
    "## - {uncompressed_size_gb:.2f} GB Uncompressed\n",
    "\"\"\"\n",
    "display(Markdown(markdown_text))"
   ]
  },
  {
   "cell_type": "markdown",
   "id": "c818548c-dde9-407c-8ec7-04d64936c922",
   "metadata": {},
   "source": [
    "# Print the entire dataframe"
   ]
  },
  {
   "cell_type": "code",
   "execution_count": null,
   "id": "8f0acde0-d3b3-4e71-b5ca-d292183a7816",
   "metadata": {},
   "outputs": [],
   "source": [
    "import IPython.display\n",
    "\n",
    "\n",
    "def display_left_aligned_df(df):\n",
    "    html_table = df.to_html(notebook=True, index=False)\n",
    "    html_table = html_table.replace(\"<td>\", '<td style=\"text-align:left\">').replace(\n",
    "        \"<th>\", '<th style=\"text-align:left\">'\n",
    "    )\n",
    "    IPython.display.display(IPython.display.HTML(html_table))\n",
    "\n",
    "\n",
    "display_left_aligned_df(df)"
   ]
  }
 ],
 "metadata": {
  "kernelspec": {
   "display_name": "Python 3 (ipykernel)",
   "language": "python",
   "name": "python3"
  },
  "language_info": {
   "codemirror_mode": {
    "name": "ipython",
    "version": 3
   },
   "file_extension": ".py",
   "mimetype": "text/x-python",
   "name": "python",
   "nbconvert_exporter": "python",
   "pygments_lexer": "ipython3",
   "version": "3.12.2"
  }
 },
 "nbformat": 4,
 "nbformat_minor": 5
}
